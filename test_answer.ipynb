{
 "cells": [
  {
   "cell_type": "markdown",
   "metadata": {},
   "source": [
    "###  计算二元词组词频"
   ]
  },
  {
   "cell_type": "code",
   "execution_count": 1,
   "metadata": {
    "scrolled": true
   },
   "outputs": [
    {
     "name": "stdout",
     "output_type": "stream",
     "text": [
      "词:的 人\t词频:923\n",
      "词:他 的\t词频:503\n",
      "词:自己 的\t词频:480\n",
      "词:上 的\t词频:356\n",
      "词:他们 的\t词频:335\n",
      "词:人 的\t词频:293\n",
      "词:的 时候\t词频:261\n",
      "词:就 会\t词频:225\n",
      "词:的 东西\t词频:207\n",
      "词:都 是\t词频:206\n"
     ]
    }
   ],
   "source": [
    "from collections import Counter\n",
    "from zhon.hanzi import punctuation\n",
    "import string\n",
    "\n",
    "\n",
    "with open('happiness_seg.txt', 'r', encoding=\"utf-8\") as words_fr:\n",
    "    word_list = words_fr.read().split()\n",
    "    \n",
    "word2_dic = {}\n",
    "for i in range(1, len(word_list)):\n",
    "    # 去除标点符号\n",
    "    if word_list[i] in punctuation or word_list[i-1] in punctuation:\n",
    "        continue\n",
    "    if word_list[i] in string.punctuation or word_list[i-1] in string.punctuation:\n",
    "        continue\n",
    "    \n",
    "    if word_list[i] ==\"―\" or word_list[i-1] == \"―\":\n",
    "        continue\n",
    "    \n",
    "    # 限定长度大于1，过滤单个字和标点符号\n",
    "    # if len(word_list[i-1]) >1 and len(word_list[i])>1:\n",
    "    \n",
    "    word2_str = word_list[i-1] +\" \"+ word_list[i]\n",
    "    if word2_str in word2_dic:\n",
    "        word2_dic[word2_str] += 1\n",
    "    else:\n",
    "        word2_dic[word2_str] = 1\n",
    "\n",
    "word2_counter = Counter(word2_dic)\n",
    "sorted_word2_list = word2_counter.most_common(10)\n",
    "for item in sorted_word2_list:\n",
    "    print(f\"词:{item[0]}\\t词频:{item[1]}\")"
   ]
  },
  {
   "cell_type": "markdown",
   "metadata": {},
   "source": [
    "### 求导sin(x******2)x"
   ]
  },
  {
   "cell_type": "code",
   "execution_count": 2,
   "metadata": {},
   "outputs": [
    {
     "name": "stdout",
     "output_type": "stream",
     "text": [
      "2*x**2*cos(x**2) + sin(x**2)\n"
     ]
    }
   ],
   "source": [
    "from sympy import sin,diff,Symbol\n",
    "import math\n",
    "x=Symbol(\"x\")\n",
    "print(diff(sin(x**2)*x,x))\n"
   ]
  },
  {
   "cell_type": "markdown",
   "metadata": {},
   "source": [
    "向量化更改正态分布数组值"
   ]
  },
  {
   "cell_type": "code",
   "execution_count": 3,
   "metadata": {},
   "outputs": [
    {
     "name": "stdout",
     "output_type": "stream",
     "text": [
      "原数组\n",
      " [-0.61166436  1.60325084 -0.29790096  0.62619534  1.32582373 -1.58206075\n",
      "  0.76850127 -0.57266505  0.89396045 -0.87429811 -0.35495226 -1.4704399\n",
      " -1.38815814  0.02200748  0.45118438 -0.67782508  0.02001551 -0.64048446\n",
      "  0.56159282  1.11871353  0.16735423  1.0477469  -1.0946444   0.37255817\n",
      " -1.1121091  -0.10131157 -1.88032878 -1.05220758 -0.19304295  0.02654423\n",
      "  1.5278168  -0.94774981  0.24637156 -0.39362719  0.52805308  0.09624116\n",
      "  1.20971181  0.0771624  -1.05028572  2.15950725  1.4171361   1.70620727\n",
      "  1.35794421 -0.34447945  1.10515465  1.08084705 -1.00423208  1.67876964\n",
      "  1.38913022  0.19499602 -0.40244602  0.57756441 -0.37744882  0.18962591\n",
      " -1.73931073 -1.22488328 -1.74959715  1.29361957  1.65381057  0.50089163\n",
      " -1.17282619 -1.40381271  1.03906623 -0.50556231  1.37242549 -0.47801321\n",
      " -0.01756333  1.34574316  0.10844406  0.43770533 -0.06133862  0.38249158\n",
      "  0.66605982 -0.71281391  0.18781612 -0.84636592 -0.82772374  0.39262146\n",
      "  0.35569813  0.10476111  0.45834463  0.94923031 -1.0265517  -2.29918988\n",
      "  1.24148883 -2.19246372 -0.67965423 -0.56877312 -0.45282098 -2.08135504\n",
      "  0.64290755 -2.45055911 -0.04175155 -0.65085369  0.35648259  0.67412828\n",
      " -0.82203117  1.11596127 -0.30633442  0.2735495 ]\n",
      "更改后数组\n",
      " [ 0.          1.60325084  0.          0.62619534  1.32582373  0.\n",
      "  0.76850127  0.          0.89396045  0.          0.          0.          0.\n",
      "  0.02200748  0.45118438  0.          0.02001551  0.          0.56159282\n",
      "  1.11871353  0.16735423  1.0477469   0.          0.37255817  0.          0.\n",
      "  0.          0.          0.          0.02654423  1.5278168   0.\n",
      "  0.24637156  0.          0.52805308  0.09624116  1.20971181  0.0771624   0.\n",
      "  2.15950725  1.4171361   1.70620727  1.35794421  0.          1.10515465\n",
      "  1.08084705  0.          1.67876964  1.38913022  0.19499602  0.\n",
      "  0.57756441  0.          0.18962591  0.          0.          0.\n",
      "  1.29361957  1.65381057  0.50089163  0.          0.          1.03906623\n",
      "  0.          1.37242549  0.          0.          1.34574316  0.10844406\n",
      "  0.43770533  0.          0.38249158  0.66605982  0.          0.18781612\n",
      "  0.          0.          0.39262146  0.35569813  0.10476111  0.45834463\n",
      "  0.94923031  0.          0.          1.24148883  0.          0.          0.\n",
      "  0.          0.          0.64290755  0.          0.          0.\n",
      "  0.35648259  0.67412828  0.          1.11596127  0.          0.2735495 ]\n"
     ]
    }
   ],
   "source": [
    "import numpy\n",
    "\n",
    "def cut_negative(f):\n",
    "    if f < 0.0:\n",
    "        return 0.0\n",
    "    else:\n",
    "        return f\n",
    "\n",
    "flo_arr = numpy.random.normal(0.0,1.0,100)\n",
    "print(\"原数组\\n\",flo_arr)\n",
    "vec_fun = numpy.vectorize(cut_negative)\n",
    "print(\"更改后数组\\n\",vec_fun(flo_arr))\n"
   ]
  }
 ],
 "metadata": {
  "kernelspec": {
   "display_name": "Python 3",
   "language": "python",
   "name": "python3"
  },
  "language_info": {
   "codemirror_mode": {
    "name": "ipython",
    "version": 3
   },
   "file_extension": ".py",
   "mimetype": "text/x-python",
   "name": "python",
   "nbconvert_exporter": "python",
   "pygments_lexer": "ipython3",
   "version": "3.6.1"
  }
 },
 "nbformat": 4,
 "nbformat_minor": 2
}
