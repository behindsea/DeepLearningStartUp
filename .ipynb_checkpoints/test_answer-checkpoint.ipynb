{
 "cells": [
  {
   "cell_type": "markdown",
   "metadata": {},
   "source": [
    "###  计算二元词组词频"
   ]
  },
  {
   "cell_type": "code",
   "execution_count": 8,
   "metadata": {
    "scrolled": true
   },
   "outputs": [
    {
     "name": "stdout",
     "output_type": "stream",
     "text": [
      "词:的 人\t词频:923\n",
      "词:他 的\t词频:503\n",
      "词:自己 的\t词频:480\n",
      "词:上 的\t词频:356\n",
      "词:他们 的\t词频:335\n",
      "词:人 的\t词频:293\n",
      "词:的 时候\t词频:261\n",
      "词:就 会\t词频:225\n",
      "词:的 东西\t词频:207\n",
      "词:都 是\t词频:206\n"
     ]
    }
   ],
   "source": [
    "from collections import Counter\n",
    "from zhon.hanzi import punctuation\n",
    "import string\n",
    "\n",
    "\n",
    "with open('happiness_seg.txt', 'r', encoding=\"utf-8\") as words_fr:\n",
    "    word_list = words_fr.read().split()\n",
    "    \n",
    "word2_dic = {}\n",
    "for i in range(1, len(word_list)):\n",
    "    # 去除标点符号\n",
    "    if word_list[i] in punctuation or word_list[i-1] in punctuation:\n",
    "        continue\n",
    "    if word_list[i] in string.punctuation or word_list[i-1] in string.punctuation:\n",
    "        continue\n",
    "    \n",
    "    if word_list[i] ==\"―\" or word_list[i-1] == \"―\":\n",
    "        continue\n",
    "    \n",
    "    # 限定长度大于1，过滤单个字和标点符号\n",
    "    # if len(word_list[i-1]) >1 and len(word_list[i])>1:\n",
    "    \n",
    "    word2_str = word_list[i-1] +\" \"+ word_list[i]\n",
    "    if word2_str in word2_dic:\n",
    "        word2_dic[word2_str] += 1\n",
    "    else:\n",
    "        word2_dic[word2_str] = 1\n",
    "\n",
    "word2_counter = Counter(word2_dic)\n",
    "sorted_word2_list = word2_counter.most_common(10)\n",
    "for item in sorted_word2_list:\n",
    "    print(f\"词:{item[0]}\\t词频:{item[1]}\")"
   ]
  },
  {
   "cell_type": "markdown",
   "metadata": {},
   "source": [
    "### 求导sin(x******2)x"
   ]
  },
  {
   "cell_type": "code",
   "execution_count": 5,
   "metadata": {},
   "outputs": [
    {
     "name": "stdout",
     "output_type": "stream",
     "text": [
      "2*x**2*cos(x**2) + sin(x**2)\n"
     ]
    }
   ],
   "source": [
    "from sympy import sin,diff,Symbol\n",
    "import math\n",
    "x=Symbol(\"x\")\n",
    "print(diff(sin(x**2)*x,x))\n"
   ]
  },
  {
   "cell_type": "markdown",
   "metadata": {},
   "source": [
    "向量化更改正态分布数组值"
   ]
  },
  {
   "cell_type": "code",
   "execution_count": 6,
   "metadata": {},
   "outputs": [
    {
     "name": "stdout",
     "output_type": "stream",
     "text": [
      "原数组\n",
      " [-0.62813731 -0.89762251 -0.43951394 -0.1475055  -0.07275788 -1.14647028\n",
      " -0.01170653  0.11178769 -1.41312332  0.52242522  0.51212289  1.08041262\n",
      "  1.6219418   0.79247086  0.44309643 -0.43354355 -0.70439081  0.52362635\n",
      "  0.38408779  1.1450849   0.71400901  0.05625771  0.31455457 -0.71943414\n",
      "  0.08247766 -1.38089702  0.2347106  -0.99410213  0.65013694  1.30219291\n",
      "  0.57067262 -0.56156011 -1.66010649  2.21660825 -1.65298477  1.7651532\n",
      "  0.2108359   0.44806208  0.43629399 -1.15228364 -0.69033283 -0.34720735\n",
      "  1.67331288 -0.99796999 -0.198241    0.79770035  0.6181023   0.55802041\n",
      "  0.89194969  0.13720745 -0.18213624 -0.59035865 -0.35919928  0.03078687\n",
      " -1.72420665  1.7915562  -0.2282654   0.78035034 -0.24345701 -0.32959803\n",
      "  0.15245506 -0.93001114  2.07994395  0.18578974  0.99492683  1.25314949\n",
      "  1.54284719  1.49620071 -0.64748396 -0.95975333  0.57384903  0.67183244\n",
      "  1.2842606   0.35946406  1.0188814  -1.75603951  0.95447727 -0.10022321\n",
      " -0.27102184 -0.4399523  -0.79853443 -0.58134106 -0.79584194  0.17666689\n",
      "  0.15706548  0.25510772 -0.93281798 -0.24713211 -0.93054997 -1.06711795\n",
      "  0.37642048 -0.96391245 -0.5731336   0.45815571  0.38394027  0.69475461\n",
      "  1.21012817 -0.823096    0.20427945 -0.53527516]\n",
      "更改后数组\n",
      " [ 0.          0.          0.          0.          0.          0.          0.\n",
      "  0.11178769  0.          0.52242522  0.51212289  1.08041262  1.6219418\n",
      "  0.79247086  0.44309643  0.          0.          0.52362635  0.38408779\n",
      "  1.1450849   0.71400901  0.05625771  0.31455457  0.          0.08247766\n",
      "  0.          0.2347106   0.          0.65013694  1.30219291  0.57067262\n",
      "  0.          0.          2.21660825  0.          1.7651532   0.2108359\n",
      "  0.44806208  0.43629399  0.          0.          0.          1.67331288\n",
      "  0.          0.          0.79770035  0.6181023   0.55802041  0.89194969\n",
      "  0.13720745  0.          0.          0.          0.03078687  0.          1.7915562\n",
      "  0.          0.78035034  0.          0.          0.15245506  0.\n",
      "  2.07994395  0.18578974  0.99492683  1.25314949  1.54284719  1.49620071\n",
      "  0.          0.          0.57384903  0.67183244  1.2842606   0.35946406\n",
      "  1.0188814   0.          0.95447727  0.          0.          0.          0.\n",
      "  0.          0.          0.17666689  0.15706548  0.25510772  0.          0.\n",
      "  0.          0.          0.37642048  0.          0.          0.45815571\n",
      "  0.38394027  0.69475461  1.21012817  0.          0.20427945  0.        ]\n"
     ]
    }
   ],
   "source": [
    "import numpy\n",
    "\n",
    "def cut_negative(f):\n",
    "    if f < 0.0:\n",
    "        return 0.0\n",
    "    else:\n",
    "        return f\n",
    "\n",
    "flo_arr = numpy.random.normal(0.0,1.0,100)\n",
    "print(\"原数组\\n\",flo_arr)\n",
    "vec_fun = numpy.vectorize(cut_negative)\n",
    "print(\"更改后数组\\n\",vec_fun(flo_arr))\n"
   ]
  }
 ],
 "metadata": {
  "kernelspec": {
   "display_name": "Python 3",
   "language": "python",
   "name": "python3"
  },
  "language_info": {
   "codemirror_mode": {
    "name": "ipython",
    "version": 3
   },
   "file_extension": ".py",
   "mimetype": "text/x-python",
   "name": "python",
   "nbconvert_exporter": "python",
   "pygments_lexer": "ipython3",
   "version": "3.6.1"
  }
 },
 "nbformat": 4,
 "nbformat_minor": 2
}
