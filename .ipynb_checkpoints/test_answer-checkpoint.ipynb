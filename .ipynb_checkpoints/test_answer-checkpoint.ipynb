{
 "cells": [
  {
   "cell_type": "markdown",
   "metadata": {},
   "source": [
    "###  计算二元词组词频"
   ]
  },
  {
   "cell_type": "code",
   "execution_count": 4,
   "metadata": {
    "scrolled": true
   },
   "outputs": [
    {
     "name": "stdout",
     "output_type": "stream",
     "text": [
      "词:的 人\t词频:923\n",
      "词:他 的\t词频:503\n",
      "词:自己 的\t词频:480\n",
      "词:上 的\t词频:356\n",
      "词:他们 的\t词频:335\n",
      "词:― ―\t词频:329\n",
      "词:人 的\t词频:293\n",
      "词:的 时候\t词频:261\n",
      "词:就 会\t词频:225\n",
      "词:的 东西\t词频:207\n"
     ]
    }
   ],
   "source": [
    "from collections import Counter\n",
    "from zhon.hanzi import punctuation\n",
    "import string\n",
    "\n",
    "\n",
    "with open('happiness_seg.txt', 'r', encoding=\"utf-8\") as words_fr:\n",
    "    word_list = words_fr.read().split()\n",
    "    \n",
    "word2_dic = {}\n",
    "for i in range(1, len(word_list)):\n",
    "    # 去除标点符号\n",
    "    if word_list[i] in punctuation or word_list[i-1] in punctuation:\n",
    "        continue\n",
    "    if word_list[i] in punctuation or word_list[i-1] in string.punctuation:\n",
    "        continue\n",
    "        \n",
    "    # 限定长度大于1，过滤单个字和标点符号\n",
    "    # if len(word_list[i-1]) >1 and len(word_list[i])>1:\n",
    "    \n",
    "    word2_str = word_list[i-1] +\" \"+ word_list[i]\n",
    "    if word2_str in word2_dic:\n",
    "        word2_dic[word2_str] += 1\n",
    "    else:\n",
    "        word2_dic[word2_str] = 1\n",
    "\n",
    "word2_counter = Counter(word2_dic)\n",
    "sorted_word2_list = word2_counter.most_common(10)\n",
    "for item in sorted_word2_list:\n",
    "    print(f\"词:{item[0]}\\t词频:{item[1]}\")"
   ]
  },
  {
   "cell_type": "markdown",
   "metadata": {},
   "source": [
    "### 求导sin(x******2)x"
   ]
  },
  {
   "cell_type": "code",
   "execution_count": 5,
   "metadata": {},
   "outputs": [
    {
     "name": "stdout",
     "output_type": "stream",
     "text": [
      "2*x**2*cos(x**2) + sin(x**2)\n"
     ]
    }
   ],
   "source": [
    "from sympy import sin,diff,Symbol\n",
    "import math\n",
    "x=Symbol(\"x\")\n",
    "print(diff(sin(x**2)*x,x))\n"
   ]
  },
  {
   "cell_type": "markdown",
   "metadata": {},
   "source": []
  }
 ],
 "metadata": {
  "kernelspec": {
   "display_name": "Python 3",
   "language": "python",
   "name": "python3"
  },
  "language_info": {
   "codemirror_mode": {
    "name": "ipython",
    "version": 3
   },
   "file_extension": ".py",
   "mimetype": "text/x-python",
   "name": "python",
   "nbconvert_exporter": "python",
   "pygments_lexer": "ipython3",
   "version": "3.6.1"
  }
 },
 "nbformat": 4,
 "nbformat_minor": 2
}
